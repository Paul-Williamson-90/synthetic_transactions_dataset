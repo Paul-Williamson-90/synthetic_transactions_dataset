{
 "cells": [
  {
   "cell_type": "code",
   "execution_count": null,
   "metadata": {},
   "outputs": [],
   "source": [
    "import numpy as np\n",
    "\n",
    "from src.sampling.distributions import Distribution\n",
    "from src.items.base import Item, create_item\n",
    "from src.item_category.base import ItemCategory\n",
    "\n",
    "\n",
    "items: list[Item] = [\n",
    "    create_item(i) for i in range(1, 11)\n",
    "]\n",
    "\n",
    "category = ItemCategory(\n",
    "    service_category_id=1,\n",
    "    likelihood=0.4,\n",
    "    quantity_distribution=Distribution(\n",
    "        distribution_type=\"longtail\",\n",
    "        lower_bound=1,\n",
    "        upper_bound=5,\n",
    "        int_or_float=\"int\"\n",
    "    ),\n",
    "    items=items\n",
    ")"
   ]
  },
  {
   "cell_type": "code",
   "execution_count": 17,
   "metadata": {},
   "outputs": [
    {
     "data": {
      "text/plain": [
       "[{'service_id': 10, 'price': 74.1, 'quantity': 1, 'variant': None},\n",
       " {'service_id': 4, 'price': 38.13, 'quantity': 2, 'variant': None},\n",
       " {'service_id': 8, 'price': 85.37, 'quantity': 6, 'variant': None},\n",
       " {'service_id': 6, 'price': 55.73, 'quantity': 15, 'variant': None}]"
      ]
     },
     "execution_count": 17,
     "metadata": {},
     "output_type": "execute_result"
    }
   ],
   "source": [
    "category.sample_items()"
   ]
  }
 ],
 "metadata": {
  "kernelspec": {
   "display_name": ".venv",
   "language": "python",
   "name": "python3"
  },
  "language_info": {
   "codemirror_mode": {
    "name": "ipython",
    "version": 3
   },
   "file_extension": ".py",
   "mimetype": "text/x-python",
   "name": "python",
   "nbconvert_exporter": "python",
   "pygments_lexer": "ipython3",
   "version": "3.13.2"
  }
 },
 "nbformat": 4,
 "nbformat_minor": 2
}
