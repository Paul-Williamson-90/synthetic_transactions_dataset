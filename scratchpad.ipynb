{
 "cells": [
  {
   "cell_type": "code",
   "execution_count": 1,
   "metadata": {},
   "outputs": [
    {
     "name": "stderr",
     "output_type": "stream",
     "text": [
      "/Users/paulwilliamson/synthetic_transactions/src/corruptors/base.py:70: FutureWarning: The previous implementation of stack is deprecated and will be removed in a future version of pandas. See the What's New notes for pandas 2.1.0 for details. Specify future_stack=True to adopt the new implementation and silence this warning.\n",
      "  contract_ammendments = contract_ammendments.stack(\"customer_id\").reset_index(drop=False)\n",
      "/Users/paulwilliamson/synthetic_transactions/src/corruptors/base.py:87: FutureWarning: Downcasting object dtype arrays on .fillna, .ffill, .bfill is deprecated and will change in a future version. Call result.infer_objects(copy=False) instead. To opt-in to the future behavior, set `pd.set_option('future.no_silent_downcasting', True)`\n",
      "  df[\"flag_missing_charges\"] = df[\"flag_missing_charges\"].fillna(False)\n"
     ]
    }
   ],
   "source": [
    "from src.main import generate_corrupted_dataset\n",
    "\n",
    "data = generate_corrupted_dataset(n_customers=20, years=5)"
   ]
  },
  {
   "cell_type": "code",
   "execution_count": 2,
   "metadata": {},
   "outputs": [
    {
     "data": {
      "text/plain": [
       "Index(['date', 'customer_id', 'order_number', 'item_category_id', 'service_id',\n",
       "       'variant', 'price', 'quantity', 'final_price', 'new_customer',\n",
       "       'contract_ammendment', 'condition_1_price', 'condition_2_probability',\n",
       "       'condition_3_price', 'condition_3_probability',\n",
       "       'condition_4_probability', 'flag_random_price_change',\n",
       "       'flag_condition_not_implemented', 'flag_price_change_no_ammendment',\n",
       "       'flag_missing_charges', 'flag_discrepancy'],\n",
       "      dtype='object')"
      ]
     },
     "execution_count": 2,
     "metadata": {},
     "output_type": "execute_result"
    }
   ],
   "source": [
    "data.columns"
   ]
  },
  {
   "cell_type": "code",
   "execution_count": 4,
   "metadata": {},
   "outputs": [
    {
     "data": {
      "text/plain": [
       "flag_random_price_change           0.029695\n",
       "flag_condition_not_implemented     0.021577\n",
       "flag_price_change_no_ammendment    0.000371\n",
       "flag_missing_charges               0.049871\n",
       "flag_discrepancy                   0.098071\n",
       "dtype: float64"
      ]
     },
     "execution_count": 4,
     "metadata": {},
     "output_type": "execute_result"
    }
   ],
   "source": [
    "data.filter(like=\"flag_\").mean()"
   ]
  },
  {
   "cell_type": "code",
   "execution_count": 48,
   "metadata": {},
   "outputs": [
    {
     "name": "stderr",
     "output_type": "stream",
     "text": [
      "/var/folders/41/81ppdf3x65x9r8sjcybxdq380000gn/T/ipykernel_5158/3231558163.py:14: FutureWarning: The previous implementation of stack is deprecated and will be removed in a future version of pandas. See the What's New notes for pandas 2.1.0 for details. Specify future_stack=True to adopt the new implementation and silence this warning.\n",
      "  price_changes = price_changes.stack([\"customer_id\", \"service_composite\"])\n",
      "/var/folders/41/81ppdf3x65x9r8sjcybxdq380000gn/T/ipykernel_5158/3231558163.py:16: FutureWarning: Setting an item of incompatible dtype is deprecated and will raise an error in a future version of pandas. Value 'True' has dtype incompatible with float64, please explicitly cast to a compatible dtype first.\n",
      "  price_changes.loc[price_changes[\"price\"].abs() > 0, \"price\"] = True\n",
      "/var/folders/41/81ppdf3x65x9r8sjcybxdq380000gn/T/ipykernel_5158/3231558163.py:25: FutureWarning: Downcasting object dtype arrays on .fillna, .ffill, .bfill is deprecated and will change in a future version. Call result.infer_objects(copy=False) instead. To opt-in to the future behavior, set `pd.set_option('future.no_silent_downcasting', True)`\n",
      "  output[\"CLS_price_change\"] = output[\"CLS_price_change\"].fillna(False)\n"
     ]
    }
   ],
   "source": [
    "data_copy = data.copy()\n",
    "\n",
    "price_changes = data_copy.copy()\n",
    "price_changes[\"service_composite\"] = price_changes[\"service_id\"].astype(str) + \"_\" + price_changes[\"variant\"].astype(str)\n",
    "\n",
    "price_changes = (\n",
    "    price_changes[[\"date\", \"customer_id\", \"order_number\", \"service_composite\", \"price\"]]\n",
    "    .set_index([\"date\", \"customer_id\", \"order_number\", \"service_composite\"])\n",
    ")\n",
    "price_changes = price_changes.groupby([\"date\", \"customer_id\", \"service_composite\"]).mean()\n",
    "\n",
    "price_changes = price_changes.unstack([\"customer_id\", \"service_composite\"]).ffill().bfill().diff()\n",
    "\n",
    "price_changes = price_changes.stack([\"customer_id\", \"service_composite\"])\n",
    "\n",
    "price_changes.loc[price_changes[\"price\"].abs() > 0, \"price\"] = True\n",
    "price_changes.loc[price_changes[\"price\"].abs() == 0, \"price\"] = False\n",
    "\n",
    "price_changes = price_changes.groupby([\"date\", \"customer_id\"]).max()\n",
    "price_changes.rename(columns={\"price\": \"CLS_price_change\"}, inplace=True)\n",
    "\n",
    "price_changes.reset_index(drop=False, inplace=True)\n",
    "\n",
    "output = data_copy.merge(price_changes, on=[\"date\", \"customer_id\"], how=\"left\")\n",
    "output[\"CLS_price_change\"] = output[\"CLS_price_change\"].fillna(False)\n",
    "\n",
    "output = (\n",
    "    output[[\"date\", \"customer_id\", \"contract_ammendment\", \"flag_price_change_no_ammendment\", \"flag_random_price_change\", \"CLS_price_change\"]]\n",
    "    .groupby([\"date\", \"customer_id\"]).max()\n",
    ")\n",
    "output.loc[output[\"contract_ammendment\"]==True, \"CLS_price_change\"] = False\n",
    "\n",
    "output = output[[\"flag_price_change_no_ammendment\", \"flag_random_price_change\", \"CLS_price_change\"]]"
   ]
  },
  {
   "cell_type": "code",
   "execution_count": 51,
   "metadata": {},
   "outputs": [
    {
     "name": "stdout",
     "output_type": "stream",
     "text": [
      "Metrics for flag_price_change_no_ammendment\n",
      "{'accuracy': 0.6263756294287862, 'recall': 0.7894736842105263, 'precision': 0.0009141324882686331, 'f1': 0.0018261504747991235} \n",
      "\n",
      "Metrics for flag_random_price_change\n",
      "{'accuracy': 0.7482057007450614, 'recall': 0.9924632352941176, 'precision': 0.32902675361082334, 'f1': 0.4942102613391917} \n",
      "\n",
      "Metrics for combined_true\n",
      "{'accuracy': 0.748433548269498, 'recall': 0.9917552216929278, 'precision': 0.3298799439332074, 'f1': 0.49508391640371335} \n",
      "\n"
     ]
    }
   ],
   "source": [
    "from sklearn.metrics import accuracy_score, recall_score, precision_score, f1_score\n",
    "\n",
    "def metrics(y_true, y_pred):\n",
    "    return {\n",
    "        \"accuracy\": accuracy_score(y_true, y_pred),\n",
    "        \"recall\": recall_score(y_true, y_pred),\n",
    "        \"precision\": precision_score(y_true, y_pred),\n",
    "        \"f1\": f1_score(y_true, y_pred)\n",
    "    }\n",
    "\n",
    "output[\"combined_true\"] = output[\"flag_price_change_no_ammendment\"] | output[\"flag_random_price_change\"]\n",
    "\n",
    "for col in [\"flag_price_change_no_ammendment\", \"flag_random_price_change\", \"combined_true\"]:\n",
    "    print(f\"Metrics for {col}\")\n",
    "    print(metrics(output[col], output[\"CLS_price_change\"]), \"\\n\")"
   ]
  }
 ],
 "metadata": {
  "kernelspec": {
   "display_name": ".venv",
   "language": "python",
   "name": "python3"
  },
  "language_info": {
   "codemirror_mode": {
    "name": "ipython",
    "version": 3
   },
   "file_extension": ".py",
   "mimetype": "text/x-python",
   "name": "python",
   "nbconvert_exporter": "python",
   "pygments_lexer": "ipython3",
   "version": "3.13.2"
  }
 },
 "nbformat": 4,
 "nbformat_minor": 2
}
