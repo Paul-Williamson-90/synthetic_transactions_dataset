{
 "cells": [
  {
   "cell_type": "code",
   "execution_count": 8,
   "metadata": {},
   "outputs": [],
   "source": [
    "import numpy as np\n",
    "\n",
    "from src.sampling.distributions import Distribution\n",
    "from src.items.base import Item\n",
    "from src.item_category.base import ItemCategory\n",
    "\n",
    "def create_item(index: int) -> Item:\n",
    "    lower_price_bound = np.random.normal(50, 10)\n",
    "    upper_price_bound = lower_price_bound + np.random.normal(50, 10)\n",
    "\n",
    "    price = Distribution(\n",
    "        distribution_type=np.random.choice([\"uniform\", \"normal\", \"longtail\"]),\n",
    "        lower_bound=lower_price_bound,\n",
    "        upper_bound=upper_price_bound,\n",
    "        int_or_float=np.random.choice([\"int\", \"float\"])\n",
    "    ).sample()\n",
    "    \n",
    "    return Item(\n",
    "        service_id=index,\n",
    "        price=price,\n",
    "        likelihood=np.random.uniform(0, 1),\n",
    "        quantity_distribution=Distribution(\n",
    "            distribution_type=np.random.choice([\"uniform\", \"normal\", \"longtail\"]),\n",
    "            lower_bound=1,\n",
    "            upper_bound=np.random.randint(1, 20),\n",
    "            int_or_float=\"int\"\n",
    "        )\n",
    "    )\n",
    "\n",
    "for _ in range(1000):\n",
    "    items = [\n",
    "        create_item(i) for i in range(1, 11)\n",
    "    ]\n",
    "\n",
    "    category = ItemCategory(\n",
    "        service_category_id=1,\n",
    "        likelihood=0.4,\n",
    "        quantity_distribution=Distribution(\n",
    "            distribution_type=\"longtail\",\n",
    "            lower_bound=1,\n",
    "            upper_bound=5,\n",
    "            int_or_float=\"int\"\n",
    "        ),\n",
    "        items=items\n",
    "    )"
   ]
  }
 ],
 "metadata": {
  "kernelspec": {
   "display_name": ".venv",
   "language": "python",
   "name": "python3"
  },
  "language_info": {
   "codemirror_mode": {
    "name": "ipython",
    "version": 3
   },
   "file_extension": ".py",
   "mimetype": "text/x-python",
   "name": "python",
   "nbconvert_exporter": "python",
   "pygments_lexer": "ipython3",
   "version": "3.13.2"
  }
 },
 "nbformat": 4,
 "nbformat_minor": 2
}
